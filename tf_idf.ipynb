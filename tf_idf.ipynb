{
 "cells": [
  {
   "cell_type": "markdown",
   "id": "a2d145272199e0ca",
   "metadata": {
    "collapsed": false
   },
   "source": [
    "# Introduction to Machine Learning with Python - Exercise 02\n",
    "\n",
    "In this exercise, we will use the knowledge of python classes and dictionaries to extract keywords from movie titles. "
   ]
  },
  {
   "cell_type": "markdown",
   "id": "a228f71d2a390b52",
   "metadata": {
    "collapsed": false
   },
   "source": [
    "## Keywords extraction"
   ]
  },
  {
   "cell_type": "markdown",
   "id": "dd2e47b6edff82ab",
   "metadata": {
    "collapsed": false
   },
   "source": [
    "Consider the following document:\n",
    "\n",
    "    I love pizza. I can't imagine living without pizza more than one day. That's how I love it!\n",
    "    \n",
    "Are there certain keywords that pop out?"
   ]
  },
  {
   "cell_type": "markdown",
   "id": "a2f07e1b2375c66e",
   "metadata": {
    "collapsed": false
   },
   "source": [
    "### TF-IDF Method\n",
    "\n",
    "The TF-IDF (Term Frequency - Inverse Document Frequency) method is a technique used for extracting keywords by comparing the frequency of a word in a document to its frequency in the entire corpus. This approach is based on the intuition that words which appear frequently in a specific document but not commonly throughout the corpus are significant for that document.\n",
    "\n",
    "(*) _Corpus_ refers to the collection of all documents.\n",
    "\n",
    "#### Mathematical Definition\n",
    "\n",
    "The TF-IDF score for a word $w$ in a document $d$ is defined as:\n",
    "$$ t_{w,d} = tf_{w,d} \\times idf_w $$\n",
    "\n",
    "where:\n",
    "- $tf_{w,d}$ represents the term frequency of $w$ in $d$.\n",
    "- $idf_w$ denotes the inverse document frequency of $w$.\n",
    "\n",
    "#### Inverse Document Frequency (IDF)\n",
    "\n",
    "IDF is calculated using a logarithmic transformation:\n",
    "$$ idf_w = \\log \\left( \\frac{N}{df_w} \\right) $$\n",
    "\n",
    "where:\n",
    "- $N$ is the total number of documents in the corpus.\n",
    "- $df_w$ is the number of documents containing the word $w$.\n",
    "\n",
    "The logarithmic scale mitigates the influence of highly frequent terms across the corpus, ensuring a balanced importance score in the TF-IDF calculations. Without this transformation, the IDF component could disproportionately affect the outcome, particularly in large corpora."
   ]
  },
  {
   "cell_type": "markdown",
   "id": "72313df1d2701090",
   "metadata": {
    "collapsed": false
   },
   "source": [
    "#### Your turn split a document into words"
   ]
  },
  {
   "cell_type": "code",
   "execution_count": 42,
   "id": "c4df6e961b840132",
   "metadata": {
    "ExecuteTime": {
     "end_time": "2024-01-24T09:27:00.892839Z",
     "start_time": "2024-01-24T09:27:00.890667Z"
    },
    "collapsed": false
   },
   "outputs": [],
   "source": [
    "def split_document(document):\n",
    "    \"\"\"\n",
    "    Splits a document into words\n",
    "\n",
    "    Removes punctuation and numbers, and converts to lowercase\n",
    "\n",
    "    Parameters\n",
    "    ----------\n",
    "    document : str\n",
    "        The document to split\n",
    "\n",
    "    Returns\n",
    "    -------\n",
    "    list\n",
    "        A list of words\n",
    "    \"\"\"\n",
    "    punctuation = list(\".,;:!?-$&@()[]'\\\"\")\n",
    "    numbers = [str(n) for n in range(10)]\n",
    "    ...\n",
    "    for p in punctuation:\n",
    "        document = document.replace(p, \" \")\n",
    "    for n in numbers:\n",
    "        document = document.replace(n, \" \")\n",
    "    document = document.lower()\n",
    "    return document.split()\n",
    "\n",
    "\n",
    "doc = \"I love pizza. I can't imagine living without pizza more than one day. That's how I love it!\"\n",
    "result = set(split_document(doc))\n",
    "expected = {\n",
    "    \"i\",\n",
    "    \"love\",\n",
    "    \"pizza\",\n",
    "    \"can\",\n",
    "    \"t\",\n",
    "    \"imagine\",\n",
    "    \"living\",\n",
    "    \"without\",\n",
    "    \"more\",\n",
    "    \"than\",\n",
    "    \"one\",\n",
    "    \"day\",\n",
    "    \"that\",\n",
    "    \"s\",\n",
    "    \"how\",\n",
    "    \"it\",\n",
    "}\n",
    "assert result == expected, f\"Expected {expected}, got {result}\""
   ]
  },
  {
   "cell_type": "markdown",
   "id": "d53596b31e7df2b3",
   "metadata": {
    "collapsed": false
   },
   "source": [
    "One way to keep count of tokens is to use a dictionary. The keys of the dictionary are the tokens, and the values are the counts. We will use `.setdefault()` to initialize the count to 0 if the token is not yet in the dictionary."
   ]
  },
  {
   "cell_type": "code",
   "execution_count": 43,
   "id": "7191c8abd0efb51d",
   "metadata": {
    "ExecuteTime": {
     "end_time": "2024-01-24T09:27:02.568458Z",
     "start_time": "2024-01-24T09:27:02.562239Z"
    },
    "collapsed": false
   },
   "outputs": [
    {
     "name": "stdout",
     "output_type": "stream",
     "text": [
      "After counting: {'a': 3, 'b': 2, 'c': 1, 'd': 1}\n",
      "After updating: {'a': 6, 'b': 4, 'c': 2, 'd': 2}\n"
     ]
    }
   ],
   "source": [
    "def keep_count(items, result=None):\n",
    "    \"\"\"\n",
    "    Keeps count of items in a dictionary\n",
    "    Args:\n",
    "        items: A list of items\n",
    "        result: If not None, the dictionary to update\n",
    "\n",
    "    Returns:\n",
    "        dict: A dictionary with the counts of the items\n",
    "    \"\"\"\n",
    "    if result is None:\n",
    "        result = {}  # initialize the dictionary\n",
    "    for item in items:\n",
    "        result.setdefault(\n",
    "            item, 0\n",
    "        )  # initialize the count to 0 if the item is not yet in the dictionary\n",
    "        result[item] += 1  # increment the count\n",
    "    return result\n",
    "\n",
    "\n",
    "result = keep_count([\"a\", \"b\", \"a\", \"c\", \"b\", \"a\", \"d\"])\n",
    "#print(f\"After counting: {result}\")\n",
    "expected = {\"a\": 3, \"b\": 2, \"c\": 1, \"d\": 1}\n",
    "assert result == expected\n",
    "\n",
    "# update an existing dictionary\n",
    "result = keep_count([\"a\", \"b\", \"a\", \"c\", \"b\", \"a\", \"d\"], result=result)\n",
    "#print(f\"After updating: {result}\")"
   ]
  },
  {
   "cell_type": "markdown",
   "id": "115abf736aaed183",
   "metadata": {
    "collapsed": false
   },
   "source": [
    "#### Your turn: compute term frequency\n",
    "\n",
    "Once we have the counts, we can compute the term frequency (TF) for each token. The term frequency is the number of times a token appears in a document divided by the total number of tokens in the document."
   ]
  },
  {
   "cell_type": "code",
   "execution_count": 60,
   "id": "9db0ba9bc020db46",
   "metadata": {
    "ExecuteTime": {
     "end_time": "2024-01-24T09:44:36.214860Z",
     "start_time": "2024-01-24T09:44:36.209495Z"
    },
    "collapsed": false
   },
   "outputs": [
    {
     "name": "stdout",
     "output_type": "stream",
     "text": [
      "TF: {'day': 1, 'pizza': 1, 'how': 1, 'it': 2, 'one': 1, 'than': 1, 'without': 1, 'more': 1, 'that': 1, 's': 1, 'imagine': 1, 'can': 1, 'i': 3, 'love': 2, 't': 1, 'living': 1, 'my': 2, 'late': 1, 'a': 1, 'had': 1, 'waiting': 1, 'the': 2, 'bus': 1, 'is': 2, 'for': 1, 'hate': 1, 'car': 2, 'wish': 1, 'thing': 1, 'best': 1, 'know': 1, 'driving': 1}\n"
     ]
    }
   ],
   "source": [
    "def compute_tf(document):\n",
    "    \"\"\"\n",
    "    Computes the term frequency for each token in a document\n",
    "    Args:\n",
    "        document: A single document as a string\n",
    "    Returns:\n",
    "        dict: A dictionary with the term frequency of each token in the document\n",
    "    \"\"\"\n",
    "    ...\n",
    "    terms = split_document(document)\n",
    "    term_count = keep_count(terms)\n",
    "    tf = {term: count / float(len(terms)) for term, count in term_count.items()}\n",
    "    return tf\n",
    "\n",
    "\n",
    "def compute_doc_freq(corpus):\n",
    "    \"\"\"\n",
    "    Computes the document frequency for each token in the corpus\n",
    "    Args:\n",
    "        corpus: A list of documents\n",
    "    Returns:\n",
    "        dict: A dictionary with the number of documents in which each token appears\n",
    "    \"\"\"\n",
    "    ...\n",
    "    doc_freq = {}\n",
    "    for document in corpus:\n",
    "        terms = set(split_document(document))\n",
    "        for term in terms:\n",
    "            doc_freq[term] = doc_freq.get(term, 0) + 1\n",
    "    return doc_freq\n",
    "\n",
    "\n",
    "corpus = [\n",
    "    \"I love pizza. I can't imagine living without pizza more than one day. That's how I love it!\",\n",
    "    \"My bus is late. I hate waiting for the bus. I wish I had a car.\",\n",
    "    \"I love my car. Driving is the best thing I know. I love it!\",\n",
    "]\n",
    "result = compute_doc_freq(corpus)\n",
    "#print(f\"TF: {result}\")"
   ]
  },
  {
   "cell_type": "markdown",
   "id": "6289d3e47e5192e4",
   "metadata": {
    "collapsed": false
   },
   "source": [
    "Let's read the data from our tmdb_5000_movies.csv file and compute the term frequency for each movie title."
   ]
  },
  {
   "cell_type": "code",
   "execution_count": 63,
   "id": "55719657fdc3f34d",
   "metadata": {
    "ExecuteTime": {
     "end_time": "2024-01-24T09:46:19.937739Z",
     "start_time": "2024-01-24T09:46:19.871457Z"
    },
    "collapsed": false
   },
   "outputs": [
    {
     "name": "stdout",
     "output_type": "stream",
     "text": [
      "Read 4803 titles\n"
     ]
    }
   ],
   "source": [
    "import os\n",
    "import csv\n",
    "\n",
    "# fn = os.path.join(\"data\", \"tmdb_5000_movies.csv\")\n",
    "reader = csv.DictReader(open(\"tmdb_5000_movies.csv\", \"r\", encoding=\"utf-8\"))\n",
    "fieldnames = reader.fieldnames\n",
    "titles = [row[\"original_title\"] for row in reader]\n",
    "#print(f\"Read {len(titles)} titles\")"
   ]
  },
  {
   "cell_type": "markdown",
   "id": "ba83fe13acdc438d",
   "metadata": {
    "collapsed": false
   },
   "source": [
    "#### Let's compute IDF"
   ]
  },
  {
   "cell_type": "code",
   "execution_count": 64,
   "id": "31f80eb22ada8d1b",
   "metadata": {
    "ExecuteTime": {
     "end_time": "2024-01-24T09:46:37.167564Z",
     "start_time": "2024-01-24T09:46:37.154885Z"
    },
    "collapsed": false
   },
   "outputs": [],
   "source": [
    "import math\n",
    "\n",
    "\n",
    "def compute_idf(doc_count, doc_freq):\n",
    "    \"\"\"\n",
    "    Computes the inverse document frequency for each token in a document\n",
    "    Args:\n",
    "        doc_count: The number of documents\n",
    "        doc_freq: A dictionary with the number of documents in which each token appears\n",
    "    Returns:\n",
    "        dict: A dictionary with the inverse document frequency of each token\n",
    "    \"\"\"\n",
    "    idf = {}\n",
    "    for term, count in doc_freq.items():\n",
    "        idf[term] = math.log(doc_count / float(count))\n",
    "    return idf"
   ]
  },
  {
   "cell_type": "code",
   "execution_count": 62,
   "id": "2bdec233281adef4",
   "metadata": {
    "ExecuteTime": {
     "start_time": "2024-01-24T09:45:18.641258Z"
    },
    "collapsed": false
   },
   "outputs": [],
   "source": []
  },
  {
   "cell_type": "code",
   "execution_count": 65,
   "id": "39010453f85bcc8e",
   "metadata": {
    "ExecuteTime": {
     "end_time": "2024-01-24T09:47:38.627676Z",
     "start_time": "2024-01-24T09:47:38.624124Z"
    },
    "collapsed": false
   },
   "outputs": [
    {
     "name": "stdout",
     "output_type": "stream",
     "text": [
      "Title: The Curious Case of Benjamin Button\n",
      "TF: {'the': 0.16666666666666666, 'curious': 0.16666666666666666, 'case': 0.16666666666666666, 'of': 0.16666666666666666, 'benjamin': 0.16666666666666666, 'button': 0.16666666666666666}\n"
     ]
    }
   ],
   "source": [
    "# now, let's extract the keywords from a title\n",
    "title = titles[100]\n",
    "#print(f\"Title: {title}\")\n",
    "title_tf = compute_tf(title)\n",
    "#print(f\"TF: {title_tf}\")"
   ]
  },
  {
   "cell_type": "code",
   "execution_count": 66,
   "id": "5e72b22439a5f4a1",
   "metadata": {
    "ExecuteTime": {
     "end_time": "2024-01-24T09:48:23.981476Z",
     "start_time": "2024-01-24T09:48:23.973260Z"
    },
    "collapsed": false
   },
   "outputs": [
    {
     "name": "stdout",
     "output_type": "stream",
     "text": [
      "Most frequent terms: [('the', 1305), ('of', 422), ('s', 176), ('a', 174), ('and', 125), ('in', 111), ('to', 101), ('man', 75), ('i', 55), ('love', 54)]\n"
     ]
    }
   ],
   "source": [
    "# First, compute the document frequencies for the entire corpus\n",
    "doc_freq = compute_doc_freq(titles)\n",
    "doc_count = len(titles)\n",
    "\n",
    "# top 10 most frequent terms\n",
    "sorted_terms = sorted(doc_freq.items(), key=lambda x: x[1], reverse=True)\n",
    "#print(f\"Most frequent terms: {sorted_terms[:10]}\")"
   ]
  },
  {
   "cell_type": "code",
   "execution_count": 69,
   "id": "fa3b783329046176",
   "metadata": {
    "ExecuteTime": {
     "end_time": "2024-01-24T09:50:39.876504Z",
     "start_time": "2024-01-24T09:50:39.870823Z"
    },
    "collapsed": false
   },
   "outputs": [
    {
     "name": "stdout",
     "output_type": "stream",
     "text": [
      "Terms with highest IDF: [('avatar', 8.476996001664824), ('spectre', 8.476996001664824), ('rises', 8.476996001664824), ('tangled', 8.476996001664824), ('ultron', 8.476996001664824), ('solace', 8.476996001664824), ('quantum', 8.476996001664824), ('chest', 8.476996001664824), ('caspian', 8.476996001664824), ('armies', 8.476996001664824)]\n"
     ]
    }
   ],
   "source": [
    "# Compute IDF using the document frequencies\n",
    "idf = compute_idf(doc_count, doc_freq)\n",
    "# top 10 terms with the highest IDF\n",
    "sorted_terms = sorted(idf.items(), key=lambda x: x[1], reverse=True)\n",
    "#print(f\"Terms with highest IDF: {sorted_terms[:10]}\")"
   ]
  },
  {
   "cell_type": "code",
   "execution_count": 76,
   "id": "c51dc8b130dbef2",
   "metadata": {
    "ExecuteTime": {
     "end_time": "2024-01-24T09:52:37.530533Z",
     "start_time": "2024-01-24T09:52:37.525819Z"
    },
    "collapsed": false
   },
   "outputs": [
    {
     "name": "stdout",
     "output_type": "stream",
     "text": [
      "Term                  Frequency        IDF     TF-IDF\n",
      "button                     0.17       8.48       1.41\n",
      "curious                    0.17       7.78       1.30\n",
      "case                       0.17       7.78       1.30\n",
      "benjamin                   0.17       7.78       1.30\n",
      "of                         0.17       2.43       0.41\n",
      "the                        0.17       1.30       0.22\n"
     ]
    }
   ],
   "source": [
    "# Compute TF-IDF for the specific title\n",
    "tf_idf = {term: title_tf.get(term, 0) * idf.get(term, 0) for term in title_tf}\n",
    "\n",
    "# Sort and print the terms\n",
    "sorted_terms = sorted(tf_idf.items(), key=lambda x: x[1], reverse=True)\n",
    "sorted_terms = [t[0] for t in sorted_terms]\n",
    "#print(f\"{'Term':20} {'Frequency':>10} {'IDF':>10} {'TF-IDF':>10}\")\n",
    "#for term in sorted_terms[:10]:\n",
    " #   print(\n",
    "  #      f\"{term:20} {title_tf.get(term, 0):10.2f} {idf.get(term, 0):10.2f} {tf_idf.get(term, 0):10.2f}\"\n",
    "#    )"
   ]
  },
  {
   "cell_type": "code",
   "execution_count": 80,
   "id": "b9de7f6c8dcfa964",
   "metadata": {
    "ExecuteTime": {
     "end_time": "2024-01-24T09:54:48.567768Z",
     "start_time": "2024-01-24T09:54:48.551949Z"
    },
    "collapsed": false
   },
   "outputs": [],
   "source": [
    "class TFIDF:\n",
    "    \"\"\"\n",
    "    A class to compute TF-IDF scores for a given corpus.\n",
    "\n",
    "    Methods:\n",
    "        fit(corpus): Learns the IDF for each term in the corpus.\n",
    "        transform(document): Computes the TF-IDF score for each term in a single document.\n",
    "    \"\"\"\n",
    "\n",
    "    def __init__(self):\n",
    "        self.idf = {}\n",
    "\n",
    "    \"\"\"\n",
    "    split(self, document: str) -> list: Tokenizes the input document into a list of words.\n",
    "    It performs some preprocessing by replacing punctuation and numbers with spaces and converting the text to lowercase.\n",
    "    \"\"\"\n",
    "    def _split(self, document: str) -> list:\n",
    "        document = str(document)\n",
    "        punctuation = list(\".,;:!?-$&@()[]'\\\"\")\n",
    "        numbers = [str(n) for n in range(10)]\n",
    "        for p in punctuation:\n",
    "            document = document.replace(p, \" \")\n",
    "        for n in numbers:\n",
    "            document = document.replace(n, \" \")\n",
    "        document = document.lower()\n",
    "        return document.split()\n",
    "    \"\"\"\n",
    "    count_terms(self, words: list) -> dict: Counts the frequency of each term in the given list of words.\n",
    "    \"\"\"\n",
    "    def _count_terms(self, words: list) -> dict:\n",
    "        term_count = {}\n",
    "        for word in words:\n",
    "            term_count[word] = term_count.get(word, 0) + 1\n",
    "        return term_count\n",
    "    \"\"\"\n",
    "    compute_tf(self, term_count: dict, doc_len: int) -> dict: Computes the Term Frequency (TF) for each term based\n",
    "    on its count and the total number of terms in the document.\n",
    "    \"\"\"\n",
    "\n",
    "    def _compute_tf(self, term_count: dict, doc_len: int) -> dict:\n",
    "        tf = {}\n",
    "        for word, count in term_count.items():\n",
    "            tf[word] = count / float(doc_len)\n",
    "        return tf\n",
    "\n",
    "    \"\"\"\n",
    "    compute_idf(self, doc_count: int, doc_freq: dict) -> None: Computes the Inverse Document Frequency (IDF) for each term based on the total number of documents\n",
    "    in the corpus and the frequency of each term across all documents.\n",
    "    in short word math.Log(The number of documents in the Corpus / the number of documents in which each term The word appears.)\n",
    "    \"\"\"\n",
    "    def _compute_idf(self, doc_count: int, doc_freq: dict) -> None:\n",
    "        for word, count in doc_freq.items():\n",
    "            self.idf[word] = math.log(doc_count / float(count))\n",
    "    \n",
    "    \"\"\"\n",
    "    fit(self, corpus) -> None: Fits the TF-IDF model to the given corpus by learning the IDF for each term.\n",
    "    \"\"\"\n",
    "\n",
    "    def fit(self, corpus) -> None:\n",
    "        doc_count = len(corpus)\n",
    "        doc_freq = {}\n",
    "\n",
    "        for document in corpus:\n",
    "            words = set(self._split(document))\n",
    "            for word in words:\n",
    "                doc_freq[word] = doc_freq.get(word, 0) + 1\n",
    "\n",
    "        self._compute_idf(doc_count, doc_freq)\n",
    "    \n",
    "    \"\"\"\n",
    "    transform(self, document: str) -> dict: Transforms a single document into TF-IDF scores for each term.\n",
    "    \"\"\"\n",
    "\n",
    "    def transform(self, document: str) -> dict:\n",
    "        tf_idf = {}\n",
    "        words = self._split(document)\n",
    "        term_count = self._count_terms(words)\n",
    "        tf = self._compute_tf(term_count, len(words))\n",
    "\n",
    "        for word, tf_value in tf.items():\n",
    "            idf = self.idf.get(word, 0.0)\n",
    "            tf_idf[word] = tf_value * idf\n",
    "\n",
    "        return tf_idf"
   ]
  },
  {
   "cell_type": "code",
   "execution_count": 81,
   "id": "86db021a96b7e8e1",
   "metadata": {
    "ExecuteTime": {
     "end_time": "2024-01-24T09:54:59.024369Z",
     "start_time": "2024-01-24T09:54:59.019999Z"
    },
    "collapsed": false
   },
   "outputs": [
    {
     "data": {
      "text/plain": [
       "{'the': 0.21717294698467174,\n",
       " 'curious': 1.297308136850813,\n",
       " 'case': 1.297308136850813,\n",
       " 'of': 0.40533178127146874,\n",
       " 'benjamin': 1.297308136850813,\n",
       " 'button': 1.4128326669441373}"
      ]
     },
     "execution_count": 81,
     "metadata": {},
     "output_type": "execute_result"
    }
   ],
   "source": [
    "tfidf = TFIDF()\n",
    "tfidf.fit(titles)\n",
    "tfidf.transform(titles[100])"
   ]
  },
  {
   "cell_type": "code",
   "execution_count": 86,
   "id": "645f51f5e4cda56c",
   "metadata": {
    "ExecuteTime": {
     "end_time": "2024-01-24T12:37:31.168134Z",
     "start_time": "2024-01-24T12:37:31.066735Z"
    },
    "collapsed": false
   },
   "outputs": [
    {
     "data": {
      "text/html": [
       "<div>\n",
       "<style scoped>\n",
       "    .dataframe tbody tr th:only-of-type {\n",
       "        vertical-align: middle;\n",
       "    }\n",
       "\n",
       "    .dataframe tbody tr th {\n",
       "        vertical-align: top;\n",
       "    }\n",
       "\n",
       "    .dataframe thead th {\n",
       "        text-align: right;\n",
       "    }\n",
       "</style>\n",
       "<table border=\"1\" class=\"dataframe\">\n",
       "  <thead>\n",
       "    <tr style=\"text-align: right;\">\n",
       "      <th></th>\n",
       "      <th>budget</th>\n",
       "      <th>genres</th>\n",
       "      <th>homepage</th>\n",
       "      <th>id</th>\n",
       "      <th>keywords</th>\n",
       "      <th>original_language</th>\n",
       "      <th>original_title</th>\n",
       "      <th>overview</th>\n",
       "      <th>popularity</th>\n",
       "      <th>production_companies</th>\n",
       "      <th>production_countries</th>\n",
       "      <th>release_date</th>\n",
       "      <th>revenue</th>\n",
       "      <th>runtime</th>\n",
       "      <th>spoken_languages</th>\n",
       "      <th>status</th>\n",
       "      <th>tagline</th>\n",
       "      <th>title</th>\n",
       "      <th>vote_average</th>\n",
       "      <th>vote_count</th>\n",
       "    </tr>\n",
       "  </thead>\n",
       "  <tbody>\n",
       "    <tr>\n",
       "      <th>546</th>\n",
       "      <td>74000000</td>\n",
       "      <td>[{\"id\": 10751, \"name\": \"Family\"}, {\"id\": 16, \"...</td>\n",
       "      <td>http://www.minionsmovie.com/</td>\n",
       "      <td>211672</td>\n",
       "      <td>[{\"id\": 3487, \"name\": \"assistant\"}, {\"id\": 179...</td>\n",
       "      <td>en</td>\n",
       "      <td>Minions</td>\n",
       "      <td>Minions Stuart, Kevin and Bob are recruited by...</td>\n",
       "      <td>875.581305</td>\n",
       "      <td>[{\"name\": \"Universal Pictures\", \"id\": 33}, {\"n...</td>\n",
       "      <td>[{\"iso_3166_1\": \"US\", \"name\": \"United States o...</td>\n",
       "      <td>2015-06-17</td>\n",
       "      <td>1156730962</td>\n",
       "      <td>91.0</td>\n",
       "      <td>[{\"iso_639_1\": \"en\", \"name\": \"English\"}]</td>\n",
       "      <td>Released</td>\n",
       "      <td>Before Gru, they had a history of bad bosses</td>\n",
       "      <td>minions</td>\n",
       "      <td>6.4</td>\n",
       "      <td>4571</td>\n",
       "    </tr>\n",
       "    <tr>\n",
       "      <th>95</th>\n",
       "      <td>165000000</td>\n",
       "      <td>[{\"id\": 12, \"name\": \"Adventure\"}, {\"id\": 18, \"...</td>\n",
       "      <td>http://www.interstellarmovie.net/</td>\n",
       "      <td>157336</td>\n",
       "      <td>[{\"id\": 83, \"name\": \"saving the world\"}, {\"id\"...</td>\n",
       "      <td>en</td>\n",
       "      <td>Interstellar</td>\n",
       "      <td>Interstellar chronicles the adventures of a gr...</td>\n",
       "      <td>724.247784</td>\n",
       "      <td>[{\"name\": \"Paramount Pictures\", \"id\": 4}, {\"na...</td>\n",
       "      <td>[{\"iso_3166_1\": \"CA\", \"name\": \"Canada\"}, {\"iso...</td>\n",
       "      <td>2014-11-05</td>\n",
       "      <td>675120017</td>\n",
       "      <td>169.0</td>\n",
       "      <td>[{\"iso_639_1\": \"en\", \"name\": \"English\"}]</td>\n",
       "      <td>Released</td>\n",
       "      <td>Mankind was born on Earth. It was never meant ...</td>\n",
       "      <td>interstellar</td>\n",
       "      <td>8.1</td>\n",
       "      <td>10867</td>\n",
       "    </tr>\n",
       "    <tr>\n",
       "      <th>788</th>\n",
       "      <td>58000000</td>\n",
       "      <td>[{\"id\": 28, \"name\": \"Action\"}, {\"id\": 12, \"nam...</td>\n",
       "      <td>http://www.foxmovies.com/movies/deadpool</td>\n",
       "      <td>293660</td>\n",
       "      <td>[{\"id\": 2095, \"name\": \"anti hero\"}, {\"id\": 307...</td>\n",
       "      <td>en</td>\n",
       "      <td>Deadpool</td>\n",
       "      <td>Deadpool tells the origin story of former Spec...</td>\n",
       "      <td>514.569956</td>\n",
       "      <td>[{\"name\": \"Twentieth Century Fox Film Corporat...</td>\n",
       "      <td>[{\"iso_3166_1\": \"US\", \"name\": \"United States o...</td>\n",
       "      <td>2016-02-09</td>\n",
       "      <td>783112979</td>\n",
       "      <td>108.0</td>\n",
       "      <td>[{\"iso_639_1\": \"en\", \"name\": \"English\"}]</td>\n",
       "      <td>Released</td>\n",
       "      <td>Witness the beginning of a happy ending</td>\n",
       "      <td>deadpool</td>\n",
       "      <td>7.4</td>\n",
       "      <td>10995</td>\n",
       "    </tr>\n",
       "    <tr>\n",
       "      <th>94</th>\n",
       "      <td>170000000</td>\n",
       "      <td>[{\"id\": 28, \"name\": \"Action\"}, {\"id\": 878, \"na...</td>\n",
       "      <td>http://marvel.com/guardians</td>\n",
       "      <td>118340</td>\n",
       "      <td>[{\"id\": 8828, \"name\": \"marvel comic\"}, {\"id\": ...</td>\n",
       "      <td>en</td>\n",
       "      <td>Guardians of the Galaxy</td>\n",
       "      <td>Light years from Earth, 26 years after being a...</td>\n",
       "      <td>481.098624</td>\n",
       "      <td>[{\"name\": \"Marvel Studios\", \"id\": 420}, {\"name...</td>\n",
       "      <td>[{\"iso_3166_1\": \"GB\", \"name\": \"United Kingdom\"...</td>\n",
       "      <td>2014-07-30</td>\n",
       "      <td>773328629</td>\n",
       "      <td>121.0</td>\n",
       "      <td>[{\"iso_639_1\": \"en\", \"name\": \"English\"}]</td>\n",
       "      <td>Released</td>\n",
       "      <td>All heroes start somewhere.</td>\n",
       "      <td>guardians of the galaxy</td>\n",
       "      <td>7.9</td>\n",
       "      <td>9742</td>\n",
       "    </tr>\n",
       "    <tr>\n",
       "      <th>127</th>\n",
       "      <td>150000000</td>\n",
       "      <td>[{\"id\": 28, \"name\": \"Action\"}, {\"id\": 12, \"nam...</td>\n",
       "      <td>http://www.madmaxmovie.com/</td>\n",
       "      <td>76341</td>\n",
       "      <td>[{\"id\": 2964, \"name\": \"future\"}, {\"id\": 3713, ...</td>\n",
       "      <td>en</td>\n",
       "      <td>Mad Max: Fury Road</td>\n",
       "      <td>An apocalyptic story set in the furthest reach...</td>\n",
       "      <td>434.278564</td>\n",
       "      <td>[{\"name\": \"Village Roadshow Pictures\", \"id\": 7...</td>\n",
       "      <td>[{\"iso_3166_1\": \"AU\", \"name\": \"Australia\"}, {\"...</td>\n",
       "      <td>2015-05-13</td>\n",
       "      <td>378858340</td>\n",
       "      <td>120.0</td>\n",
       "      <td>[{\"iso_639_1\": \"en\", \"name\": \"English\"}]</td>\n",
       "      <td>Released</td>\n",
       "      <td>What a Lovely Day.</td>\n",
       "      <td>mad max: fury road</td>\n",
       "      <td>7.2</td>\n",
       "      <td>9427</td>\n",
       "    </tr>\n",
       "    <tr>\n",
       "      <th>...</th>\n",
       "      <td>...</td>\n",
       "      <td>...</td>\n",
       "      <td>...</td>\n",
       "      <td>...</td>\n",
       "      <td>...</td>\n",
       "      <td>...</td>\n",
       "      <td>...</td>\n",
       "      <td>...</td>\n",
       "      <td>...</td>\n",
       "      <td>...</td>\n",
       "      <td>...</td>\n",
       "      <td>...</td>\n",
       "      <td>...</td>\n",
       "      <td>...</td>\n",
       "      <td>...</td>\n",
       "      <td>...</td>\n",
       "      <td>...</td>\n",
       "      <td>...</td>\n",
       "      <td>...</td>\n",
       "      <td>...</td>\n",
       "    </tr>\n",
       "    <tr>\n",
       "      <th>4625</th>\n",
       "      <td>0</td>\n",
       "      <td>[{\"id\": 27, \"name\": \"Horror\"}]</td>\n",
       "      <td>NaN</td>\n",
       "      <td>426067</td>\n",
       "      <td>[]</td>\n",
       "      <td>en</td>\n",
       "      <td>Midnight Cabaret</td>\n",
       "      <td>A Broadway producer puts on a play with a Devi...</td>\n",
       "      <td>0.001389</td>\n",
       "      <td>[]</td>\n",
       "      <td>[]</td>\n",
       "      <td>1990-01-01</td>\n",
       "      <td>0</td>\n",
       "      <td>94.0</td>\n",
       "      <td>[{\"iso_639_1\": \"en\", \"name\": \"English\"}]</td>\n",
       "      <td>Released</td>\n",
       "      <td>The hot spot where Satan's waitin'.</td>\n",
       "      <td>midnight cabaret</td>\n",
       "      <td>0.0</td>\n",
       "      <td>0</td>\n",
       "    </tr>\n",
       "    <tr>\n",
       "      <th>4118</th>\n",
       "      <td>0</td>\n",
       "      <td>[]</td>\n",
       "      <td>NaN</td>\n",
       "      <td>325140</td>\n",
       "      <td>[]</td>\n",
       "      <td>en</td>\n",
       "      <td>Hum To Mohabbat Karega</td>\n",
       "      <td>Raju, a waiter, is in love with the famous TV ...</td>\n",
       "      <td>0.001186</td>\n",
       "      <td>[]</td>\n",
       "      <td>[]</td>\n",
       "      <td>2000-05-26</td>\n",
       "      <td>0</td>\n",
       "      <td>0.0</td>\n",
       "      <td>[]</td>\n",
       "      <td>Released</td>\n",
       "      <td>NaN</td>\n",
       "      <td>hum to mohabbat karega</td>\n",
       "      <td>0.0</td>\n",
       "      <td>0</td>\n",
       "    </tr>\n",
       "    <tr>\n",
       "      <th>4727</th>\n",
       "      <td>0</td>\n",
       "      <td>[{\"id\": 28, \"name\": \"Action\"}, {\"id\": 18, \"nam...</td>\n",
       "      <td>NaN</td>\n",
       "      <td>65448</td>\n",
       "      <td>[{\"id\": 378, \"name\": \"prison\"}, {\"id\": 209476,...</td>\n",
       "      <td>en</td>\n",
       "      <td>Penitentiary</td>\n",
       "      <td>A hitchhiker named Martel Gordone gets in a fi...</td>\n",
       "      <td>0.001117</td>\n",
       "      <td>[]</td>\n",
       "      <td>[]</td>\n",
       "      <td>1979-12-01</td>\n",
       "      <td>0</td>\n",
       "      <td>99.0</td>\n",
       "      <td>[{\"iso_639_1\": \"en\", \"name\": \"English\"}]</td>\n",
       "      <td>Released</td>\n",
       "      <td>There's only one way out, and 100 fools stand ...</td>\n",
       "      <td>penitentiary</td>\n",
       "      <td>4.9</td>\n",
       "      <td>8</td>\n",
       "    </tr>\n",
       "    <tr>\n",
       "      <th>3361</th>\n",
       "      <td>0</td>\n",
       "      <td>[{\"id\": 27, \"name\": \"Horror\"}, {\"id\": 28, \"nam...</td>\n",
       "      <td>NaN</td>\n",
       "      <td>77156</td>\n",
       "      <td>[]</td>\n",
       "      <td>en</td>\n",
       "      <td>Alien Zone</td>\n",
       "      <td>A man who is having an affair with a married w...</td>\n",
       "      <td>0.000372</td>\n",
       "      <td>[]</td>\n",
       "      <td>[{\"iso_3166_1\": \"US\", \"name\": \"United States o...</td>\n",
       "      <td>1978-11-22</td>\n",
       "      <td>0</td>\n",
       "      <td>90.0</td>\n",
       "      <td>[{\"iso_639_1\": \"en\", \"name\": \"English\"}]</td>\n",
       "      <td>Released</td>\n",
       "      <td>Don't you dare go in there!</td>\n",
       "      <td>alien zone</td>\n",
       "      <td>4.0</td>\n",
       "      <td>3</td>\n",
       "    </tr>\n",
       "    <tr>\n",
       "      <th>4553</th>\n",
       "      <td>0</td>\n",
       "      <td>[]</td>\n",
       "      <td>NaN</td>\n",
       "      <td>380097</td>\n",
       "      <td>[]</td>\n",
       "      <td>en</td>\n",
       "      <td>America Is Still the Place</td>\n",
       "      <td>1971 post civil rights San Francisco seemed li...</td>\n",
       "      <td>0.000000</td>\n",
       "      <td>[]</td>\n",
       "      <td>[]</td>\n",
       "      <td>NaN</td>\n",
       "      <td>0</td>\n",
       "      <td>0.0</td>\n",
       "      <td>[]</td>\n",
       "      <td>Released</td>\n",
       "      <td>NaN</td>\n",
       "      <td>america is still the place</td>\n",
       "      <td>0.0</td>\n",
       "      <td>0</td>\n",
       "    </tr>\n",
       "  </tbody>\n",
       "</table>\n",
       "<p>4803 rows × 20 columns</p>\n",
       "</div>"
      ],
      "text/plain": [
       "         budget                                             genres  \\\n",
       "546    74000000  [{\"id\": 10751, \"name\": \"Family\"}, {\"id\": 16, \"...   \n",
       "95    165000000  [{\"id\": 12, \"name\": \"Adventure\"}, {\"id\": 18, \"...   \n",
       "788    58000000  [{\"id\": 28, \"name\": \"Action\"}, {\"id\": 12, \"nam...   \n",
       "94    170000000  [{\"id\": 28, \"name\": \"Action\"}, {\"id\": 878, \"na...   \n",
       "127   150000000  [{\"id\": 28, \"name\": \"Action\"}, {\"id\": 12, \"nam...   \n",
       "...         ...                                                ...   \n",
       "4625          0                     [{\"id\": 27, \"name\": \"Horror\"}]   \n",
       "4118          0                                                 []   \n",
       "4727          0  [{\"id\": 28, \"name\": \"Action\"}, {\"id\": 18, \"nam...   \n",
       "3361          0  [{\"id\": 27, \"name\": \"Horror\"}, {\"id\": 28, \"nam...   \n",
       "4553          0                                                 []   \n",
       "\n",
       "                                      homepage      id  \\\n",
       "546               http://www.minionsmovie.com/  211672   \n",
       "95           http://www.interstellarmovie.net/  157336   \n",
       "788   http://www.foxmovies.com/movies/deadpool  293660   \n",
       "94                 http://marvel.com/guardians  118340   \n",
       "127                http://www.madmaxmovie.com/   76341   \n",
       "...                                        ...     ...   \n",
       "4625                                       NaN  426067   \n",
       "4118                                       NaN  325140   \n",
       "4727                                       NaN   65448   \n",
       "3361                                       NaN   77156   \n",
       "4553                                       NaN  380097   \n",
       "\n",
       "                                               keywords original_language  \\\n",
       "546   [{\"id\": 3487, \"name\": \"assistant\"}, {\"id\": 179...                en   \n",
       "95    [{\"id\": 83, \"name\": \"saving the world\"}, {\"id\"...                en   \n",
       "788   [{\"id\": 2095, \"name\": \"anti hero\"}, {\"id\": 307...                en   \n",
       "94    [{\"id\": 8828, \"name\": \"marvel comic\"}, {\"id\": ...                en   \n",
       "127   [{\"id\": 2964, \"name\": \"future\"}, {\"id\": 3713, ...                en   \n",
       "...                                                 ...               ...   \n",
       "4625                                                 []                en   \n",
       "4118                                                 []                en   \n",
       "4727  [{\"id\": 378, \"name\": \"prison\"}, {\"id\": 209476,...                en   \n",
       "3361                                                 []                en   \n",
       "4553                                                 []                en   \n",
       "\n",
       "                  original_title  \\\n",
       "546                      Minions   \n",
       "95                  Interstellar   \n",
       "788                     Deadpool   \n",
       "94       Guardians of the Galaxy   \n",
       "127           Mad Max: Fury Road   \n",
       "...                          ...   \n",
       "4625            Midnight Cabaret   \n",
       "4118      Hum To Mohabbat Karega   \n",
       "4727                Penitentiary   \n",
       "3361                  Alien Zone   \n",
       "4553  America Is Still the Place   \n",
       "\n",
       "                                               overview  popularity  \\\n",
       "546   Minions Stuart, Kevin and Bob are recruited by...  875.581305   \n",
       "95    Interstellar chronicles the adventures of a gr...  724.247784   \n",
       "788   Deadpool tells the origin story of former Spec...  514.569956   \n",
       "94    Light years from Earth, 26 years after being a...  481.098624   \n",
       "127   An apocalyptic story set in the furthest reach...  434.278564   \n",
       "...                                                 ...         ...   \n",
       "4625  A Broadway producer puts on a play with a Devi...    0.001389   \n",
       "4118  Raju, a waiter, is in love with the famous TV ...    0.001186   \n",
       "4727  A hitchhiker named Martel Gordone gets in a fi...    0.001117   \n",
       "3361  A man who is having an affair with a married w...    0.000372   \n",
       "4553  1971 post civil rights San Francisco seemed li...    0.000000   \n",
       "\n",
       "                                   production_companies  \\\n",
       "546   [{\"name\": \"Universal Pictures\", \"id\": 33}, {\"n...   \n",
       "95    [{\"name\": \"Paramount Pictures\", \"id\": 4}, {\"na...   \n",
       "788   [{\"name\": \"Twentieth Century Fox Film Corporat...   \n",
       "94    [{\"name\": \"Marvel Studios\", \"id\": 420}, {\"name...   \n",
       "127   [{\"name\": \"Village Roadshow Pictures\", \"id\": 7...   \n",
       "...                                                 ...   \n",
       "4625                                                 []   \n",
       "4118                                                 []   \n",
       "4727                                                 []   \n",
       "3361                                                 []   \n",
       "4553                                                 []   \n",
       "\n",
       "                                   production_countries release_date  \\\n",
       "546   [{\"iso_3166_1\": \"US\", \"name\": \"United States o...   2015-06-17   \n",
       "95    [{\"iso_3166_1\": \"CA\", \"name\": \"Canada\"}, {\"iso...   2014-11-05   \n",
       "788   [{\"iso_3166_1\": \"US\", \"name\": \"United States o...   2016-02-09   \n",
       "94    [{\"iso_3166_1\": \"GB\", \"name\": \"United Kingdom\"...   2014-07-30   \n",
       "127   [{\"iso_3166_1\": \"AU\", \"name\": \"Australia\"}, {\"...   2015-05-13   \n",
       "...                                                 ...          ...   \n",
       "4625                                                 []   1990-01-01   \n",
       "4118                                                 []   2000-05-26   \n",
       "4727                                                 []   1979-12-01   \n",
       "3361  [{\"iso_3166_1\": \"US\", \"name\": \"United States o...   1978-11-22   \n",
       "4553                                                 []          NaN   \n",
       "\n",
       "         revenue  runtime                          spoken_languages    status  \\\n",
       "546   1156730962     91.0  [{\"iso_639_1\": \"en\", \"name\": \"English\"}]  Released   \n",
       "95     675120017    169.0  [{\"iso_639_1\": \"en\", \"name\": \"English\"}]  Released   \n",
       "788    783112979    108.0  [{\"iso_639_1\": \"en\", \"name\": \"English\"}]  Released   \n",
       "94     773328629    121.0  [{\"iso_639_1\": \"en\", \"name\": \"English\"}]  Released   \n",
       "127    378858340    120.0  [{\"iso_639_1\": \"en\", \"name\": \"English\"}]  Released   \n",
       "...          ...      ...                                       ...       ...   \n",
       "4625           0     94.0  [{\"iso_639_1\": \"en\", \"name\": \"English\"}]  Released   \n",
       "4118           0      0.0                                        []  Released   \n",
       "4727           0     99.0  [{\"iso_639_1\": \"en\", \"name\": \"English\"}]  Released   \n",
       "3361           0     90.0  [{\"iso_639_1\": \"en\", \"name\": \"English\"}]  Released   \n",
       "4553           0      0.0                                        []  Released   \n",
       "\n",
       "                                                tagline  \\\n",
       "546        Before Gru, they had a history of bad bosses   \n",
       "95    Mankind was born on Earth. It was never meant ...   \n",
       "788             Witness the beginning of a happy ending   \n",
       "94                          All heroes start somewhere.   \n",
       "127                                  What a Lovely Day.   \n",
       "...                                                 ...   \n",
       "4625                The hot spot where Satan's waitin'.   \n",
       "4118                                                NaN   \n",
       "4727  There's only one way out, and 100 fools stand ...   \n",
       "3361                        Don't you dare go in there!   \n",
       "4553                                                NaN   \n",
       "\n",
       "                           title  vote_average  vote_count  \n",
       "546                      minions           6.4        4571  \n",
       "95                  interstellar           8.1       10867  \n",
       "788                     deadpool           7.4       10995  \n",
       "94       guardians of the galaxy           7.9        9742  \n",
       "127           mad max: fury road           7.2        9427  \n",
       "...                          ...           ...         ...  \n",
       "4625            midnight cabaret           0.0           0  \n",
       "4118      hum to mohabbat karega           0.0           0  \n",
       "4727                penitentiary           4.9           8  \n",
       "3361                  alien zone           4.0           3  \n",
       "4553  america is still the place           0.0           0  \n",
       "\n",
       "[4803 rows x 20 columns]"
      ]
     },
     "execution_count": 86,
     "metadata": {},
     "output_type": "execute_result"
    }
   ],
   "source": [
    "import pandas as pd\n",
    "\n",
    "df = pd.read_csv(\"tmdb_5000_movies.csv\").sort_values(\"popularity\", ascending=False)\n",
    "df"
   ]
  },
  {
   "cell_type": "code",
   "execution_count": 89,
   "id": "36189b1700de536c",
   "metadata": {
    "ExecuteTime": {
     "end_time": "2024-01-24T12:37:58.252197Z",
     "start_time": "2024-01-24T12:37:58.220203Z"
    },
    "collapsed": false
   },
   "outputs": [
    {
     "data": {
      "text/plain": [
       "['Minions',\n",
       " 'Interstellar',\n",
       " 'Deadpool',\n",
       " 'Guardians of the Galaxy',\n",
       " 'Mad Max: Fury Road']"
      ]
     },
     "execution_count": 89,
     "metadata": {},
     "output_type": "execute_result"
    }
   ],
   "source": [
    "df.original_title.head().tolist()"
   ]
  },
  {
   "cell_type": "code",
   "execution_count": 1,
   "id": "131d2258dd4af57c",
   "metadata": {
    "collapsed": false
   },
   "outputs": [
    {
     "data": {
      "text/plain": [
       "'/Users/barcohen/Desktop/שנה ג׳ /מבוא ללמידת מכונה/Ex1'"
      ]
     },
     "execution_count": 1,
     "metadata": {},
     "output_type": "execute_result"
    }
   ],
   "source": [
    "import os\n",
    "os.getcwd()"
   ]
  }
 ],
 "metadata": {
  "kernelspec": {
   "display_name": "Python 3",
   "language": "python",
   "name": "python3"
  },
  "language_info": {
   "codemirror_mode": {
    "name": "ipython",
    "version": 3
   },
   "file_extension": ".py",
   "mimetype": "text/x-python",
   "name": "python",
   "nbconvert_exporter": "python",
   "pygments_lexer": "ipython3",
   "version": "3.11.5"
  }
 },
 "nbformat": 4,
 "nbformat_minor": 5
}
